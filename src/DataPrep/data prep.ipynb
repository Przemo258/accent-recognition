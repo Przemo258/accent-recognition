{
 "cells": [
  {
   "cell_type": "code",
   "id": "initial_id",
   "metadata": {
    "collapsed": true
   },
   "source": [
    "import os\n",
    "import pandas as pd\n",
    "import matplotlib.pyplot as plt"
   ],
   "outputs": [],
   "execution_count": null
  },
  {
   "metadata": {},
   "cell_type": "code",
   "source": [
    "def get_data(file_path):\n",
    "    # get the data from the csv file\n",
    "    df = pd.read_csv(file_path, sep='\\t', usecols=['path', 'accents', 'up_votes', 'down_votes'])\n",
    "\n",
    "    # drop rows with nan values\n",
    "    non_nan_df = df.dropna()\n",
    "\n",
    "    return non_nan_df"
   ],
   "id": "e98898637faa3d0d",
   "outputs": [],
   "execution_count": null
  },
  {
   "metadata": {},
   "cell_type": "code",
   "source": [
    "def filter_data(df, upvote_threshold=8, num_accents=10, additional_accents=None):\n",
    "    if additional_accents is None:\n",
    "        additional_accents = []\n",
    "\n",
    "    # drop rows with accents other than the ones in top num_accents and additional accents\n",
    "    top_accents = df['accents'].value_counts().head(num_accents).index\n",
    "    top_df = df[df['accents'].isin(top_accents) | df['accents'].isin(additional_accents)]\n",
    "\n",
    "    # drop rows with diffrence between upvotes and downvotes less than threshold\n",
    "    top_df = top_df[(top_df['up_votes'] - top_df['down_votes']) >= upvote_threshold]\n",
    "\n",
    "    # drop up_votes and down_votes columns and add new column 'accent' with values as integers\n",
    "    top_df.drop(columns=['up_votes', 'down_votes'], inplace=True)\n",
    "    top_df['accent'] = top_df['accents'].astype('category').cat.codes\n",
    "\n",
    "    return top_df"
   ],
   "id": "bb4743c737cb7a9b",
   "outputs": [],
   "execution_count": null
  },
  {
   "metadata": {},
   "cell_type": "code",
   "source": [
    "def split_data(dataframe, train_size=0.9, val_size=0.3):\n",
    "    train_df = pd.DataFrame()\n",
    "    val_df = pd.DataFrame()\n",
    "    test_df = pd.DataFrame()\n",
    "\n",
    "    for accent in dataframe['accent'].unique():\n",
    "        accent_df = dataframe[dataframe['accent'] == accent]\n",
    "\n",
    "        accent_train_df = accent_df.sample(frac=train_size, random_state=42)\n",
    "        accent_val_test_df = accent_df.drop(accent_train_df.index)\n",
    "        accent_val_df = accent_val_test_df.sample(frac=val_size, random_state=42)\n",
    "        accent_test_df = accent_val_test_df.drop(accent_val_df.index)\n",
    "\n",
    "        train_df = pd.concat([train_df, accent_train_df])\n",
    "        val_df = pd.concat([val_df, accent_val_df])\n",
    "        test_df = pd.concat([test_df, accent_test_df])\n",
    "\n",
    "    return train_df, val_df, test_df"
   ],
   "id": "e2907683a60f540d",
   "outputs": [],
   "execution_count": null
  },
  {
   "metadata": {},
   "cell_type": "code",
   "source": [
    "def save_class_labels(dataframe, data_dir):\n",
    "    # save value counts of accents\n",
    "    accent_counts = dataframe['accents'].value_counts()\n",
    "    accent_counts.to_csv(os.path.join(data_dir, 'accent_counts.csv'))\n",
    "\n",
    "    # save class labels\n",
    "    class_labels = accent_counts.index\n",
    "    class_labels_df = pd.Series(class_labels)\n",
    "    class_labels_df.to_csv(os.path.join(data_dir, 'class_labels.csv'), index=False)"
   ],
   "id": "6088f32aacdc39ac",
   "outputs": [],
   "execution_count": null
  },
  {
   "metadata": {},
   "cell_type": "code",
   "source": [
    "def plot_data(dataframe, title='Accent Distribution', save_path=None):\n",
    "    accent_counts = dataframe['accents'].value_counts()\n",
    "    plt.figure(figsize=(8, 6))\n",
    "    accent_counts.plot(kind='barh')\n",
    "    plt.ylabel('Accent')\n",
    "    plt.xlabel('Count')\n",
    "    plt.title(title)\n",
    "    if save_path is not None:\n",
    "        plt.savefig(save_path, bbox_inches=\"tight\")\n",
    "\n",
    "    plt.show()"
   ],
   "id": "6e1a913b8cf0cc03",
   "outputs": [],
   "execution_count": null
  },
  {
   "metadata": {},
   "cell_type": "code",
   "source": [
    "def main():\n",
    "    # Constants\n",
    "    file_path = r\"../../data/metadata/validated.tsv\"\n",
    "    results_dir = r\"../../results/\"\n",
    "    upvote_threshold = 3\n",
    "    num_accents = 10\n",
    "    additional_accents = []\n",
    "\n",
    "    # get the data\n",
    "    df = get_data(file_path)\n",
    "\n",
    "    # filter the data\n",
    "    filtered_df = filter_data(df, upvote_threshold, num_accents, additional_accents)\n",
    "\n",
    "    # split the data\n",
    "    train_df, val_df, test_df = split_data(filtered_df)\n",
    "\n",
    "    print(f\"Train size: {train_df.shape[0]} samples\")\n",
    "    print(f\"Val size: {val_df.shape[0]} samples\")\n",
    "    print(f\"Test size: {test_df.shape[0]} samples\")\n",
    "\n",
    "    # plot the data distribution and save plots pngs\n",
    "    plot_data(filtered_df, 'Accent Distribution for Filtered',\n",
    "              os.path.join(results_dir, 'accent_distribution_filtered.png'))\n",
    "    plot_data(train_df, 'Accent Distribution for Train', os.path.join(results_dir, 'accent_distribution_train.png'))\n",
    "    plot_data(val_df, 'Accent Distribution for Val', os.path.join(results_dir, 'accent_distribution_val.png'))\n",
    "    plot_data(test_df, 'Accent Distribution for Test', os.path.join(results_dir, 'accent_distribution_test.png'))\n",
    "\n",
    "    # save class labels\n",
    "    save_class_labels(filtered_df, results_dir)"
   ],
   "id": "88386fbd8021a4d0",
   "outputs": [],
   "execution_count": null
  },
  {
   "metadata": {},
   "cell_type": "code",
   "source": "main()",
   "id": "81707cbdfdecd30c",
   "outputs": [],
   "execution_count": null
  }
 ],
 "metadata": {
  "kernelspec": {
   "display_name": "Python 3",
   "language": "python",
   "name": "python3"
  },
  "language_info": {
   "codemirror_mode": {
    "name": "ipython",
    "version": 2
   },
   "file_extension": ".py",
   "mimetype": "text/x-python",
   "name": "python",
   "nbconvert_exporter": "python",
   "pygments_lexer": "ipython2",
   "version": "2.7.6"
  }
 },
 "nbformat": 4,
 "nbformat_minor": 5
}
